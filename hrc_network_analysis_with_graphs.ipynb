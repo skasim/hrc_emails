{
 "cells": [
  {
   "cell_type": "markdown",
   "metadata": {},
   "source": [
    "# Hillary Clinton's Emails"
   ]
  },
  {
   "cell_type": "markdown",
   "metadata": {},
   "source": [
    "[Kaggle](https://www.kaggle.com), as part of a [competition](https://www.kaggle.com/c/hillary-clinton-emails), made available over 7,000 pages of emails sent by Hillary Clinton and her associates. I found the emails fascinating not just because of the content but because they told a story about the inner workings of Clinton's inner circle. I used network analysis and matplotlib to visually demonstrate how Clinton's inner cirlce operated. Below, I demonstrate how I created this analysis."
   ]
  },
  {
   "cell_type": "markdown",
   "metadata": {},
   "source": [
    "Import all necessary libraries as per below:"
   ]
  },
  {
   "cell_type": "code",
   "execution_count": 1,
   "metadata": {
    "collapsed": true
   },
   "outputs": [],
   "source": [
    "import pandas as pd\n",
    "import sqlite3\n",
    "import networkx as nx\n",
    "import matplotlib.pyplot as plt\n",
    "%matplotlib inline "
   ]
  },
  {
   "cell_type": "markdown",
   "metadata": {},
   "source": [
    "Kaggle released a [SQLite database](https://www.kaggle.com/c/hillary-clinton-emails/data) that contains all the data needed for this analysis. I downloaded the file and convereted it to a dataframe. The other data sets are Aliases, EmailReceivers, Emails, Persons. To learn more about the different data sets, visit [Kaggle](https://www.kaggle.com/c/hillary-clinton-emails/data)."
   ]
  },
  {
   "cell_type": "code",
   "execution_count": 2,
   "metadata": {
    "collapsed": false
   },
   "outputs": [],
   "source": [
    "db = 'data_files/database.sqlite'\n",
    "\n",
    "con = sqlite3.connect(db)\n",
    "df = pd.read_sql_query(\"SELECT * from Emails\", con)\n",
    "\n",
    "con.close()"
   ]
  },
  {
   "cell_type": "markdown",
   "metadata": {},
   "source": [
    "### Data Munging and Merging tables"
   ]
  },
  {
   "cell_type": "markdown",
   "metadata": {},
   "source": [
    "At this point, the data was still messy and needed further cleaning (e.g., Hillary Clinton's could be referred to as 'H', ';H', or 'Clinton, Hillary Rodham'. However, each person had a PersonId (for Hillary Clinton, it is 80). Below, I demonstrate how I merged data with different tables to get the correct full name matched with the correct PersonId and produce a clean table to to create graphs."
   ]
  },
  {
   "cell_type": "code",
   "execution_count": 3,
   "metadata": {
    "collapsed": false
   },
   "outputs": [
    {
     "data": {
      "text/html": [
       "<div>\n",
       "<table border=\"1\" class=\"dataframe\">\n",
       "  <thead>\n",
       "    <tr style=\"text-align: right;\">\n",
       "      <th></th>\n",
       "      <th>Id</th>\n",
       "      <th>DocNumber</th>\n",
       "      <th>MetadataSubject</th>\n",
       "      <th>MetadataTo</th>\n",
       "      <th>MetadataFrom</th>\n",
       "      <th>SenderPersonId</th>\n",
       "      <th>MetadataDateSent</th>\n",
       "      <th>MetadataDateReleased</th>\n",
       "      <th>MetadataPdfLink</th>\n",
       "      <th>MetadataCaseNumber</th>\n",
       "      <th>...</th>\n",
       "      <th>ExtractedTo</th>\n",
       "      <th>ExtractedFrom</th>\n",
       "      <th>ExtractedCc</th>\n",
       "      <th>ExtractedDateSent</th>\n",
       "      <th>ExtractedCaseNumber</th>\n",
       "      <th>ExtractedDocNumber</th>\n",
       "      <th>ExtractedDateReleased</th>\n",
       "      <th>ExtractedReleaseInPartOrFull</th>\n",
       "      <th>ExtractedBodyText</th>\n",
       "      <th>RawText</th>\n",
       "    </tr>\n",
       "  </thead>\n",
       "  <tbody>\n",
       "    <tr>\n",
       "      <th>0</th>\n",
       "      <td>1</td>\n",
       "      <td>C05739545</td>\n",
       "      <td>WOW</td>\n",
       "      <td>H</td>\n",
       "      <td>Sullivan, Jacob J</td>\n",
       "      <td>87</td>\n",
       "      <td>2012-09-12T04:00:00+00:00</td>\n",
       "      <td>2015-05-22T04:00:00+00:00</td>\n",
       "      <td>DOCUMENTS/HRC_Email_1_296/HRCH2/DOC_0C05739545...</td>\n",
       "      <td>F-2015-04841</td>\n",
       "      <td>...</td>\n",
       "      <td></td>\n",
       "      <td>Sullivan, Jacob J &lt;Sullivan11@state.gov&gt;</td>\n",
       "      <td></td>\n",
       "      <td>Wednesday, September 12, 2012 10:16 AM</td>\n",
       "      <td>F-2015-04841</td>\n",
       "      <td>C05739545</td>\n",
       "      <td>05/13/2015</td>\n",
       "      <td>RELEASE IN FULL</td>\n",
       "      <td></td>\n",
       "      <td>UNCLASSIFIED\\nU.S. Department of State\\nCase N...</td>\n",
       "    </tr>\n",
       "    <tr>\n",
       "      <th>2</th>\n",
       "      <td>3</td>\n",
       "      <td>C05739547</td>\n",
       "      <td>CHRIS STEVENS</td>\n",
       "      <td>;H</td>\n",
       "      <td>Mills, Cheryl D</td>\n",
       "      <td>32</td>\n",
       "      <td>2012-09-12T04:00:00+00:00</td>\n",
       "      <td>2015-05-22T04:00:00+00:00</td>\n",
       "      <td>DOCUMENTS/HRC_Email_1_296/HRCH2/DOC_0C05739547...</td>\n",
       "      <td>F-2015-04841</td>\n",
       "      <td>...</td>\n",
       "      <td>B6</td>\n",
       "      <td>Mills, Cheryl D &lt;MillsCD@state.gov&gt;</td>\n",
       "      <td>Abedin, Huma</td>\n",
       "      <td>Wednesday, September 12, 2012 11:52 AM</td>\n",
       "      <td>F-2015-04841</td>\n",
       "      <td>C05739547</td>\n",
       "      <td>05/14/2015</td>\n",
       "      <td>RELEASE IN PART</td>\n",
       "      <td>Thx</td>\n",
       "      <td>UNCLASSIFIED\\nU.S. Department of State\\nCase N...</td>\n",
       "    </tr>\n",
       "    <tr>\n",
       "      <th>3</th>\n",
       "      <td>4</td>\n",
       "      <td>C05739550</td>\n",
       "      <td>CAIRO CONDEMNATION - FINAL</td>\n",
       "      <td>H</td>\n",
       "      <td>Mills, Cheryl D</td>\n",
       "      <td>32</td>\n",
       "      <td>2012-09-12T04:00:00+00:00</td>\n",
       "      <td>2015-05-22T04:00:00+00:00</td>\n",
       "      <td>DOCUMENTS/HRC_Email_1_296/HRCH2/DOC_0C05739550...</td>\n",
       "      <td>F-2015-04841</td>\n",
       "      <td>...</td>\n",
       "      <td></td>\n",
       "      <td>Mills, Cheryl D &lt;MillsCD@state.gov&gt;</td>\n",
       "      <td>Mitchell, Andrew B</td>\n",
       "      <td>Wednesday, September 12,2012 12:44 PM</td>\n",
       "      <td>F-2015-04841</td>\n",
       "      <td>C05739550</td>\n",
       "      <td>05/13/2015</td>\n",
       "      <td>RELEASE IN PART</td>\n",
       "      <td></td>\n",
       "      <td>UNCLASSIFIED\\nU.S. Department of State\\nCase N...</td>\n",
       "    </tr>\n",
       "    <tr>\n",
       "      <th>4</th>\n",
       "      <td>5</td>\n",
       "      <td>C05739554</td>\n",
       "      <td>H: LATEST: HOW SYRIA IS AIDING QADDAFI AND MOR...</td>\n",
       "      <td>Abedin, Huma</td>\n",
       "      <td>H</td>\n",
       "      <td>80</td>\n",
       "      <td>2011-03-11T05:00:00+00:00</td>\n",
       "      <td>2015-05-22T04:00:00+00:00</td>\n",
       "      <td>DOCUMENTS/HRC_Email_1_296/HRCH1/DOC_0C05739554...</td>\n",
       "      <td>F-2015-04841</td>\n",
       "      <td>...</td>\n",
       "      <td></td>\n",
       "      <td></td>\n",
       "      <td></td>\n",
       "      <td></td>\n",
       "      <td>F-2015-04841</td>\n",
       "      <td>C05739554</td>\n",
       "      <td>05/13/2015</td>\n",
       "      <td>RELEASE IN PART</td>\n",
       "      <td>H &lt;hrod17@clintonemail.com&gt;\\nFriday, March 11,...</td>\n",
       "      <td>B6\\nUNCLASSIFIED\\nU.S. Department of State\\nCa...</td>\n",
       "    </tr>\n",
       "    <tr>\n",
       "      <th>5</th>\n",
       "      <td>6</td>\n",
       "      <td>C05739559</td>\n",
       "      <td>MEET THE RIGHT-WING EXTREMIST BEHIND ANTI-MUSL...</td>\n",
       "      <td>Russorv@state.gov</td>\n",
       "      <td>H</td>\n",
       "      <td>80</td>\n",
       "      <td>2012-09-12T04:00:00+00:00</td>\n",
       "      <td>2015-05-22T04:00:00+00:00</td>\n",
       "      <td>DOCUMENTS/HRC_Email_1_296/HRCH2/DOC_0C05739559...</td>\n",
       "      <td>F-2015-04841</td>\n",
       "      <td>...</td>\n",
       "      <td></td>\n",
       "      <td></td>\n",
       "      <td></td>\n",
       "      <td>Wednesday, September 12, 2012 01:00 PM</td>\n",
       "      <td>F-2015-04841</td>\n",
       "      <td>C05739559</td>\n",
       "      <td>05/13/2015</td>\n",
       "      <td>RELEASE IN PART</td>\n",
       "      <td>Pis print.\\n-•-...-^\\nH &lt; hrod17@clintonernail...</td>\n",
       "      <td>B6\\nUNCLASSIFIED\\nU.S. Department of State\\nCa...</td>\n",
       "    </tr>\n",
       "  </tbody>\n",
       "</table>\n",
       "<p>5 rows × 22 columns</p>\n",
       "</div>"
      ],
      "text/plain": [
       "   Id  DocNumber                                    MetadataSubject  \\\n",
       "0   1  C05739545                                                WOW   \n",
       "2   3  C05739547                                      CHRIS STEVENS   \n",
       "3   4  C05739550                         CAIRO CONDEMNATION - FINAL   \n",
       "4   5  C05739554  H: LATEST: HOW SYRIA IS AIDING QADDAFI AND MOR...   \n",
       "5   6  C05739559  MEET THE RIGHT-WING EXTREMIST BEHIND ANTI-MUSL...   \n",
       "\n",
       "          MetadataTo       MetadataFrom SenderPersonId  \\\n",
       "0                  H  Sullivan, Jacob J             87   \n",
       "2                 ;H    Mills, Cheryl D             32   \n",
       "3                  H    Mills, Cheryl D             32   \n",
       "4       Abedin, Huma                  H             80   \n",
       "5  Russorv@state.gov                  H             80   \n",
       "\n",
       "            MetadataDateSent       MetadataDateReleased  \\\n",
       "0  2012-09-12T04:00:00+00:00  2015-05-22T04:00:00+00:00   \n",
       "2  2012-09-12T04:00:00+00:00  2015-05-22T04:00:00+00:00   \n",
       "3  2012-09-12T04:00:00+00:00  2015-05-22T04:00:00+00:00   \n",
       "4  2011-03-11T05:00:00+00:00  2015-05-22T04:00:00+00:00   \n",
       "5  2012-09-12T04:00:00+00:00  2015-05-22T04:00:00+00:00   \n",
       "\n",
       "                                     MetadataPdfLink MetadataCaseNumber  \\\n",
       "0  DOCUMENTS/HRC_Email_1_296/HRCH2/DOC_0C05739545...       F-2015-04841   \n",
       "2  DOCUMENTS/HRC_Email_1_296/HRCH2/DOC_0C05739547...       F-2015-04841   \n",
       "3  DOCUMENTS/HRC_Email_1_296/HRCH2/DOC_0C05739550...       F-2015-04841   \n",
       "4  DOCUMENTS/HRC_Email_1_296/HRCH1/DOC_0C05739554...       F-2015-04841   \n",
       "5  DOCUMENTS/HRC_Email_1_296/HRCH2/DOC_0C05739559...       F-2015-04841   \n",
       "\n",
       "                         ...                         ExtractedTo  \\\n",
       "0                        ...                                       \n",
       "2                        ...                                  B6   \n",
       "3                        ...                                       \n",
       "4                        ...                                       \n",
       "5                        ...                                       \n",
       "\n",
       "                              ExtractedFrom         ExtractedCc  \\\n",
       "0  Sullivan, Jacob J <Sullivan11@state.gov>                       \n",
       "2       Mills, Cheryl D <MillsCD@state.gov>        Abedin, Huma   \n",
       "3       Mills, Cheryl D <MillsCD@state.gov>  Mitchell, Andrew B   \n",
       "4                                                                 \n",
       "5                                                                 \n",
       "\n",
       "                        ExtractedDateSent ExtractedCaseNumber  \\\n",
       "0  Wednesday, September 12, 2012 10:16 AM        F-2015-04841   \n",
       "2  Wednesday, September 12, 2012 11:52 AM        F-2015-04841   \n",
       "3   Wednesday, September 12,2012 12:44 PM        F-2015-04841   \n",
       "4                                                F-2015-04841   \n",
       "5  Wednesday, September 12, 2012 01:00 PM        F-2015-04841   \n",
       "\n",
       "  ExtractedDocNumber ExtractedDateReleased ExtractedReleaseInPartOrFull  \\\n",
       "0          C05739545            05/13/2015              RELEASE IN FULL   \n",
       "2          C05739547            05/14/2015              RELEASE IN PART   \n",
       "3          C05739550            05/13/2015              RELEASE IN PART   \n",
       "4          C05739554            05/13/2015              RELEASE IN PART   \n",
       "5          C05739559            05/13/2015              RELEASE IN PART   \n",
       "\n",
       "                                   ExtractedBodyText  \\\n",
       "0                                                      \n",
       "2                                                Thx   \n",
       "3                                                      \n",
       "4  H <hrod17@clintonemail.com>\\nFriday, March 11,...   \n",
       "5  Pis print.\\n-•-...-^\\nH < hrod17@clintonernail...   \n",
       "\n",
       "                                             RawText  \n",
       "0  UNCLASSIFIED\\nU.S. Department of State\\nCase N...  \n",
       "2  UNCLASSIFIED\\nU.S. Department of State\\nCase N...  \n",
       "3  UNCLASSIFIED\\nU.S. Department of State\\nCase N...  \n",
       "4  B6\\nUNCLASSIFIED\\nU.S. Department of State\\nCa...  \n",
       "5  B6\\nUNCLASSIFIED\\nU.S. Department of State\\nCa...  \n",
       "\n",
       "[5 rows x 22 columns]"
      ]
     },
     "execution_count": 3,
     "metadata": {},
     "output_type": "execute_result"
    }
   ],
   "source": [
    "# Create new dataframe (hf) that excludes missing values in MetadataFrom column.\n",
    "\n",
    "hf = df[df['MetadataFrom'] != '']\n",
    "hf.head()"
   ]
  },
  {
   "cell_type": "code",
   "execution_count": 4,
   "metadata": {
    "collapsed": false
   },
   "outputs": [
    {
     "data": {
      "text/html": [
       "<div>\n",
       "<table border=\"1\" class=\"dataframe\">\n",
       "  <thead>\n",
       "    <tr style=\"text-align: right;\">\n",
       "      <th></th>\n",
       "      <th>MetadataTo</th>\n",
       "      <th>MetadataFrom</th>\n",
       "      <th>SenderPersonId</th>\n",
       "      <th>ExtractedBodyText</th>\n",
       "    </tr>\n",
       "  </thead>\n",
       "  <tbody>\n",
       "    <tr>\n",
       "      <th>0</th>\n",
       "      <td>H</td>\n",
       "      <td>Sullivan, Jacob J</td>\n",
       "      <td>87</td>\n",
       "      <td></td>\n",
       "    </tr>\n",
       "    <tr>\n",
       "      <th>2</th>\n",
       "      <td>;H</td>\n",
       "      <td>Mills, Cheryl D</td>\n",
       "      <td>32</td>\n",
       "      <td>Thx</td>\n",
       "    </tr>\n",
       "    <tr>\n",
       "      <th>3</th>\n",
       "      <td>H</td>\n",
       "      <td>Mills, Cheryl D</td>\n",
       "      <td>32</td>\n",
       "      <td></td>\n",
       "    </tr>\n",
       "    <tr>\n",
       "      <th>4</th>\n",
       "      <td>Abedin, Huma</td>\n",
       "      <td>H</td>\n",
       "      <td>80</td>\n",
       "      <td>H &lt;hrod17@clintonemail.com&gt;\\nFriday, March 11,...</td>\n",
       "    </tr>\n",
       "    <tr>\n",
       "      <th>5</th>\n",
       "      <td>Russorv@state.gov</td>\n",
       "      <td>H</td>\n",
       "      <td>80</td>\n",
       "      <td>Pis print.\\n-•-...-^\\nH &lt; hrod17@clintonernail...</td>\n",
       "    </tr>\n",
       "  </tbody>\n",
       "</table>\n",
       "</div>"
      ],
      "text/plain": [
       "          MetadataTo       MetadataFrom SenderPersonId  \\\n",
       "0                  H  Sullivan, Jacob J             87   \n",
       "2                 ;H    Mills, Cheryl D             32   \n",
       "3                  H    Mills, Cheryl D             32   \n",
       "4       Abedin, Huma                  H             80   \n",
       "5  Russorv@state.gov                  H             80   \n",
       "\n",
       "                                   ExtractedBodyText  \n",
       "0                                                     \n",
       "2                                                Thx  \n",
       "3                                                     \n",
       "4  H <hrod17@clintonemail.com>\\nFriday, March 11,...  \n",
       "5  Pis print.\\n-•-...-^\\nH < hrod17@clintonernail...  "
      ]
     },
     "execution_count": 4,
     "metadata": {},
     "output_type": "execute_result"
    }
   ],
   "source": [
    "# In the hf dataframe only show the columns in features and rename MetadataTo to Alias to merge with the \n",
    "# Aliases df.\n",
    "\n",
    "features = ['MetadataTo','MetadataFrom','SenderPersonId','ExtractedBodyText']\n",
    "\n",
    "hf = hf[features]\n",
    "hf = pd.DataFrame(hf)\n",
    "hf.head()"
   ]
  },
  {
   "cell_type": "code",
   "execution_count": 5,
   "metadata": {
    "collapsed": false
   },
   "outputs": [
    {
     "data": {
      "text/html": [
       "<div>\n",
       "<table border=\"1\" class=\"dataframe\">\n",
       "  <thead>\n",
       "    <tr style=\"text-align: right;\">\n",
       "      <th></th>\n",
       "      <th>MetadataFrom</th>\n",
       "      <th>SenderPersonId</th>\n",
       "    </tr>\n",
       "  </thead>\n",
       "  <tbody>\n",
       "    <tr>\n",
       "      <th>0</th>\n",
       "      <td>Sullivan, Jacob J</td>\n",
       "      <td>87</td>\n",
       "    </tr>\n",
       "    <tr>\n",
       "      <th>2</th>\n",
       "      <td>Mills, Cheryl D</td>\n",
       "      <td>32</td>\n",
       "    </tr>\n",
       "    <tr>\n",
       "      <th>4</th>\n",
       "      <td>H</td>\n",
       "      <td>80</td>\n",
       "    </tr>\n",
       "    <tr>\n",
       "      <th>13</th>\n",
       "      <td>Slaughter, Anne-Marie</td>\n",
       "      <td>10</td>\n",
       "    </tr>\n",
       "    <tr>\n",
       "      <th>15</th>\n",
       "      <td>Koh, Harold Hongju</td>\n",
       "      <td>77</td>\n",
       "    </tr>\n",
       "  </tbody>\n",
       "</table>\n",
       "</div>"
      ],
      "text/plain": [
       "             MetadataFrom SenderPersonId\n",
       "0       Sullivan, Jacob J             87\n",
       "2         Mills, Cheryl D             32\n",
       "4                       H             80\n",
       "13  Slaughter, Anne-Marie             10\n",
       "15     Koh, Harold Hongju             77"
      ]
     },
     "execution_count": 5,
     "metadata": {},
     "output_type": "execute_result"
    }
   ],
   "source": [
    "# Create a new dataframe from hf that contains the name (MetadataFrom) and the PersonID. \n",
    "# Add only unique values in this dataframe.\n",
    "\n",
    "names_df = hf\n",
    "names_features = ['MetadataFrom','SenderPersonId']\n",
    "names_df = names_df[names_features]\n",
    "names_df = names_df.drop_duplicates()\n",
    "names_df.head()"
   ]
  },
  {
   "cell_type": "code",
   "execution_count": 6,
   "metadata": {
    "collapsed": false
   },
   "outputs": [
    {
     "data": {
      "text/html": [
       "<div>\n",
       "<table border=\"1\" class=\"dataframe\">\n",
       "  <thead>\n",
       "    <tr style=\"text-align: right;\">\n",
       "      <th></th>\n",
       "      <th>MetadataTo</th>\n",
       "      <th>ReceiverPersonId</th>\n",
       "    </tr>\n",
       "  </thead>\n",
       "  <tbody>\n",
       "    <tr>\n",
       "      <th>0</th>\n",
       "      <td>Sullivan, Jacob J</td>\n",
       "      <td>87</td>\n",
       "    </tr>\n",
       "    <tr>\n",
       "      <th>2</th>\n",
       "      <td>Mills, Cheryl D</td>\n",
       "      <td>32</td>\n",
       "    </tr>\n",
       "    <tr>\n",
       "      <th>4</th>\n",
       "      <td>H</td>\n",
       "      <td>80</td>\n",
       "    </tr>\n",
       "    <tr>\n",
       "      <th>13</th>\n",
       "      <td>Slaughter, Anne-Marie</td>\n",
       "      <td>10</td>\n",
       "    </tr>\n",
       "    <tr>\n",
       "      <th>15</th>\n",
       "      <td>Koh, Harold Hongju</td>\n",
       "      <td>77</td>\n",
       "    </tr>\n",
       "  </tbody>\n",
       "</table>\n",
       "</div>"
      ],
      "text/plain": [
       "               MetadataTo ReceiverPersonId\n",
       "0       Sullivan, Jacob J               87\n",
       "2         Mills, Cheryl D               32\n",
       "4                       H               80\n",
       "13  Slaughter, Anne-Marie               10\n",
       "15     Koh, Harold Hongju               77"
      ]
     },
     "execution_count": 6,
     "metadata": {},
     "output_type": "execute_result"
    }
   ],
   "source": [
    "# In names_df, change MetadataFrom column name to MetaDataTo, to merge with hf.\n",
    "\n",
    "names_df = names_df.rename(columns =({'MetadataFrom':'MetadataTo', 'SenderPersonId':'ReceiverPersonId'}))\n",
    "names_df.head()"
   ]
  },
  {
   "cell_type": "code",
   "execution_count": 7,
   "metadata": {
    "collapsed": false
   },
   "outputs": [
    {
     "data": {
      "text/html": [
       "<div>\n",
       "<table border=\"1\" class=\"dataframe\">\n",
       "  <thead>\n",
       "    <tr style=\"text-align: right;\">\n",
       "      <th></th>\n",
       "      <th>MetadataTo</th>\n",
       "      <th>MetadataFrom</th>\n",
       "      <th>ReceiverPersonId</th>\n",
       "      <th>SenderPersonId</th>\n",
       "      <th>ExtractedBodyText</th>\n",
       "    </tr>\n",
       "  </thead>\n",
       "  <tbody>\n",
       "    <tr>\n",
       "      <th>0</th>\n",
       "      <td>H</td>\n",
       "      <td>Sullivan, Jacob J</td>\n",
       "      <td>80</td>\n",
       "      <td>87</td>\n",
       "      <td></td>\n",
       "    </tr>\n",
       "    <tr>\n",
       "      <th>1</th>\n",
       "      <td>;H</td>\n",
       "      <td>Mills, Cheryl D</td>\n",
       "      <td>NaN</td>\n",
       "      <td>32</td>\n",
       "      <td>Thx</td>\n",
       "    </tr>\n",
       "    <tr>\n",
       "      <th>2</th>\n",
       "      <td>H</td>\n",
       "      <td>Mills, Cheryl D</td>\n",
       "      <td>80</td>\n",
       "      <td>32</td>\n",
       "      <td></td>\n",
       "    </tr>\n",
       "    <tr>\n",
       "      <th>3</th>\n",
       "      <td>Abedin, Huma</td>\n",
       "      <td>H</td>\n",
       "      <td>81</td>\n",
       "      <td>80</td>\n",
       "      <td>H &lt;hrod17@clintonemail.com&gt;\\nFriday, March 11,...</td>\n",
       "    </tr>\n",
       "    <tr>\n",
       "      <th>4</th>\n",
       "      <td>Russorv@state.gov</td>\n",
       "      <td>H</td>\n",
       "      <td>NaN</td>\n",
       "      <td>80</td>\n",
       "      <td>Pis print.\\n-•-...-^\\nH &lt; hrod17@clintonernail...</td>\n",
       "    </tr>\n",
       "  </tbody>\n",
       "</table>\n",
       "</div>"
      ],
      "text/plain": [
       "          MetadataTo       MetadataFrom ReceiverPersonId SenderPersonId  \\\n",
       "0                  H  Sullivan, Jacob J               80             87   \n",
       "1                 ;H    Mills, Cheryl D              NaN             32   \n",
       "2                  H    Mills, Cheryl D               80             32   \n",
       "3       Abedin, Huma                  H               81             80   \n",
       "4  Russorv@state.gov                  H              NaN             80   \n",
       "\n",
       "                                   ExtractedBodyText  \n",
       "0                                                     \n",
       "1                                                Thx  \n",
       "2                                                     \n",
       "3  H <hrod17@clintonemail.com>\\nFriday, March 11,...  \n",
       "4  Pis print.\\n-•-...-^\\nH < hrod17@clintonernail...  "
      ]
     },
     "execution_count": 7,
     "metadata": {},
     "output_type": "execute_result"
    }
   ],
   "source": [
    "# Merge hf dataframe with names_df on MetadataTo column.\n",
    "\n",
    "merged_hf = hf.merge(names_df, on='MetadataTo', how='left')\n",
    "merged_features = ['MetadataTo','MetadataFrom','ReceiverPersonId','SenderPersonId','ExtractedBodyText']\n",
    "merged_hf = merged_hf[merged_features]\n",
    "merged_hf.head()"
   ]
  },
  {
   "cell_type": "code",
   "execution_count": 8,
   "metadata": {
    "collapsed": false
   },
   "outputs": [
    {
     "data": {
      "text/html": [
       "<div>\n",
       "<table border=\"1\" class=\"dataframe\">\n",
       "  <thead>\n",
       "    <tr style=\"text-align: right;\">\n",
       "      <th></th>\n",
       "      <th>MetadataTo</th>\n",
       "    </tr>\n",
       "  </thead>\n",
       "  <tbody>\n",
       "    <tr>\n",
       "      <th>1</th>\n",
       "      <td>;H</td>\n",
       "    </tr>\n",
       "    <tr>\n",
       "      <th>4</th>\n",
       "      <td>Russorv@state.gov</td>\n",
       "    </tr>\n",
       "    <tr>\n",
       "      <th>17</th>\n",
       "      <td>sullivanjj@state.gov</td>\n",
       "    </tr>\n",
       "    <tr>\n",
       "      <th>38</th>\n",
       "      <td>Flores, Oscar</td>\n",
       "    </tr>\n",
       "    <tr>\n",
       "      <th>74</th>\n",
       "      <td>abedinh@state.gov</td>\n",
       "    </tr>\n",
       "  </tbody>\n",
       "</table>\n",
       "</div>"
      ],
      "text/plain": [
       "              MetadataTo\n",
       "1                     ;H\n",
       "4      Russorv@state.gov\n",
       "17  sullivanjj@state.gov\n",
       "38         Flores, Oscar\n",
       "74     abedinh@state.gov"
      ]
     },
     "execution_count": 8,
     "metadata": {},
     "output_type": "execute_result"
    }
   ],
   "source": [
    "# The merged_hf dataframe is missing many 1,641 emails (174 names) because of inconsistencies in naming.\n",
    "# They are identified below.\n",
    "\n",
    "find_nulls = merged_hf[merged_hf.ReceiverPersonId.isnull()]\n",
    "find_nulls_feature = ['MetadataTo']\n",
    "find_nulls = find_nulls[find_nulls_feature]\n",
    "find_nulls = find_nulls.drop_duplicates()\n",
    "find_nulls.head()"
   ]
  },
  {
   "cell_type": "code",
   "execution_count": 9,
   "metadata": {
    "collapsed": false
   },
   "outputs": [
    {
     "data": {
      "text/html": [
       "<div>\n",
       "<table border=\"1\" class=\"dataframe\">\n",
       "  <thead>\n",
       "    <tr style=\"text-align: right;\">\n",
       "      <th></th>\n",
       "      <th>MetadataTo</th>\n",
       "      <th>ReceiverPersonId</th>\n",
       "    </tr>\n",
       "  </thead>\n",
       "  <tbody>\n",
       "    <tr>\n",
       "      <th>0</th>\n",
       "      <td>111th congress</td>\n",
       "      <td>1</td>\n",
       "    </tr>\n",
       "    <tr>\n",
       "      <th>1</th>\n",
       "      <td>agna usemb kabul afghanistan</td>\n",
       "      <td>2</td>\n",
       "    </tr>\n",
       "    <tr>\n",
       "      <th>2</th>\n",
       "      <td>ap</td>\n",
       "      <td>3</td>\n",
       "    </tr>\n",
       "    <tr>\n",
       "      <th>3</th>\n",
       "      <td>asuncion</td>\n",
       "      <td>4</td>\n",
       "    </tr>\n",
       "    <tr>\n",
       "      <th>4</th>\n",
       "      <td>alec</td>\n",
       "      <td>5</td>\n",
       "    </tr>\n",
       "  </tbody>\n",
       "</table>\n",
       "</div>"
      ],
      "text/plain": [
       "                     MetadataTo  ReceiverPersonId\n",
       "0                111th congress                 1\n",
       "1  agna usemb kabul afghanistan                 2\n",
       "2                            ap                 3\n",
       "3                      asuncion                 4\n",
       "4                          alec                 5"
      ]
     },
     "execution_count": 9,
     "metadata": {},
     "output_type": "execute_result"
    }
   ],
   "source": [
    "#Load aliases dataframe\n",
    "aliases_df = pd.read_csv('data_files/Aliases.csv')\n",
    "\n",
    "#Only include Alias and PersonId columns from Aliases df\n",
    "aliases = ['Alias','PersonId']\n",
    "aliases = aliases_df[aliases]\n",
    "\n",
    "# Rename Alias column to be MetadataTo\n",
    "aliases = aliases.rename(columns =({'Alias':'MetadataTo', 'PersonId':'ReceiverPersonId'}))\n",
    "aliases.head()"
   ]
  },
  {
   "cell_type": "code",
   "execution_count": 10,
   "metadata": {
    "collapsed": false
   },
   "outputs": [
    {
     "name": "stderr",
     "output_type": "stream",
     "text": [
      "/Users/SamK/.local/share/virtualenvs/hrc_emails/lib/python2.7/site-packages/pandas/tools/merge.py:682: UnicodeWarning: Unicode equal comparison failed to convert both arguments to Unicode - interpreting them as being unequal\n",
      "  rlab = rizer.factorize(rk)\n"
     ]
    },
    {
     "data": {
      "text/html": [
       "<div>\n",
       "<table border=\"1\" class=\"dataframe\">\n",
       "  <thead>\n",
       "    <tr style=\"text-align: right;\">\n",
       "      <th></th>\n",
       "      <th>MetadataTo</th>\n",
       "      <th>ReceiverPersonId</th>\n",
       "    </tr>\n",
       "  </thead>\n",
       "  <tbody>\n",
       "    <tr>\n",
       "      <th>2</th>\n",
       "      <td>sullivanjj@state.gov</td>\n",
       "      <td>87</td>\n",
       "    </tr>\n",
       "    <tr>\n",
       "      <th>4</th>\n",
       "      <td>abedinh@state.gov</td>\n",
       "      <td>81</td>\n",
       "    </tr>\n",
       "    <tr>\n",
       "      <th>5</th>\n",
       "      <td>millscd@state.gov</td>\n",
       "      <td>32</td>\n",
       "    </tr>\n",
       "    <tr>\n",
       "      <th>6</th>\n",
       "      <td>hanleymr@state.gov</td>\n",
       "      <td>150</td>\n",
       "    </tr>\n",
       "    <tr>\n",
       "      <th>12</th>\n",
       "      <td>michele.flournoy</td>\n",
       "      <td>147</td>\n",
       "    </tr>\n",
       "  </tbody>\n",
       "</table>\n",
       "</div>"
      ],
      "text/plain": [
       "              MetadataTo  ReceiverPersonId\n",
       "2   sullivanjj@state.gov                87\n",
       "4      abedinh@state.gov                81\n",
       "5      millscd@state.gov                32\n",
       "6     hanleymr@state.gov               150\n",
       "12      michele.flournoy               147"
      ]
     },
     "execution_count": 10,
     "metadata": {},
     "output_type": "execute_result"
    }
   ],
   "source": [
    "# Merge the find_nulls dataframe with the Alias dataframe to get PersonId for missing Aliases.\n",
    "\n",
    "fix_nulls_df = find_nulls.merge(aliases, on='MetadataTo', how='left')\n",
    "fix_nulls_df = fix_nulls_df[fix_nulls_df.ReceiverPersonId.notnull()]\n",
    "fix_nulls_df.head()"
   ]
  },
  {
   "cell_type": "code",
   "execution_count": 11,
   "metadata": {
    "collapsed": false
   },
   "outputs": [
    {
     "data": {
      "text/html": [
       "<div>\n",
       "<table border=\"1\" class=\"dataframe\">\n",
       "  <thead>\n",
       "    <tr style=\"text-align: right;\">\n",
       "      <th></th>\n",
       "      <th>MetadataTo</th>\n",
       "      <th>ReceiverPersonIdConct</th>\n",
       "    </tr>\n",
       "  </thead>\n",
       "  <tbody>\n",
       "    <tr>\n",
       "      <th>0</th>\n",
       "      <td>Sullivan, Jacob J</td>\n",
       "      <td>87</td>\n",
       "    </tr>\n",
       "    <tr>\n",
       "      <th>2</th>\n",
       "      <td>Mills, Cheryl D</td>\n",
       "      <td>32</td>\n",
       "    </tr>\n",
       "    <tr>\n",
       "      <th>4</th>\n",
       "      <td>H</td>\n",
       "      <td>80</td>\n",
       "    </tr>\n",
       "    <tr>\n",
       "      <th>13</th>\n",
       "      <td>Slaughter, Anne-Marie</td>\n",
       "      <td>10</td>\n",
       "    </tr>\n",
       "    <tr>\n",
       "      <th>15</th>\n",
       "      <td>Koh, Harold Hongju</td>\n",
       "      <td>77</td>\n",
       "    </tr>\n",
       "  </tbody>\n",
       "</table>\n",
       "</div>"
      ],
      "text/plain": [
       "               MetadataTo ReceiverPersonIdConct\n",
       "0       Sullivan, Jacob J                    87\n",
       "2         Mills, Cheryl D                    32\n",
       "4                       H                    80\n",
       "13  Slaughter, Anne-Marie                    10\n",
       "15     Koh, Harold Hongju                    77"
      ]
     },
     "execution_count": 11,
     "metadata": {},
     "output_type": "execute_result"
    }
   ],
   "source": [
    "# Append fix_nulls_df to names_df to have a comprehensive list of names and PersonIds.\n",
    "\n",
    "top_stack = names_df\n",
    "bottom_stack = fix_nulls_df\n",
    "\n",
    "concat_names_df = pd.concat([top_stack, bottom_stack], axis=0)\n",
    "concat_names_df[concat_names_df.ReceiverPersonId.notnull()]\n",
    "concat_names_df = concat_names_df.rename(columns =({'ReceiverPersonId':'ReceiverPersonIdConct'}))\n",
    "concat_names_df.head()"
   ]
  },
  {
   "cell_type": "code",
   "execution_count": 12,
   "metadata": {
    "collapsed": false
   },
   "outputs": [
    {
     "data": {
      "text/html": [
       "<div>\n",
       "<table border=\"1\" class=\"dataframe\">\n",
       "  <thead>\n",
       "    <tr style=\"text-align: right;\">\n",
       "      <th></th>\n",
       "      <th>MetadataTo</th>\n",
       "      <th>MetadataFrom</th>\n",
       "      <th>ReceiverPersonId</th>\n",
       "      <th>SenderPersonId</th>\n",
       "      <th>ExtractedBodyText</th>\n",
       "      <th>ReceiverPersonIdConct</th>\n",
       "    </tr>\n",
       "  </thead>\n",
       "  <tbody>\n",
       "    <tr>\n",
       "      <th>0</th>\n",
       "      <td>H</td>\n",
       "      <td>Sullivan, Jacob J</td>\n",
       "      <td>80</td>\n",
       "      <td>87</td>\n",
       "      <td></td>\n",
       "      <td>80</td>\n",
       "    </tr>\n",
       "    <tr>\n",
       "      <th>1</th>\n",
       "      <td>;H</td>\n",
       "      <td>Mills, Cheryl D</td>\n",
       "      <td>NaN</td>\n",
       "      <td>32</td>\n",
       "      <td>Thx</td>\n",
       "      <td>NaN</td>\n",
       "    </tr>\n",
       "    <tr>\n",
       "      <th>2</th>\n",
       "      <td>H</td>\n",
       "      <td>Mills, Cheryl D</td>\n",
       "      <td>80</td>\n",
       "      <td>32</td>\n",
       "      <td></td>\n",
       "      <td>80</td>\n",
       "    </tr>\n",
       "    <tr>\n",
       "      <th>3</th>\n",
       "      <td>Abedin, Huma</td>\n",
       "      <td>H</td>\n",
       "      <td>81</td>\n",
       "      <td>80</td>\n",
       "      <td>H &lt;hrod17@clintonemail.com&gt;\\nFriday, March 11,...</td>\n",
       "      <td>81</td>\n",
       "    </tr>\n",
       "    <tr>\n",
       "      <th>4</th>\n",
       "      <td>Russorv@state.gov</td>\n",
       "      <td>H</td>\n",
       "      <td>NaN</td>\n",
       "      <td>80</td>\n",
       "      <td>Pis print.\\n-•-...-^\\nH &lt; hrod17@clintonernail...</td>\n",
       "      <td>NaN</td>\n",
       "    </tr>\n",
       "  </tbody>\n",
       "</table>\n",
       "</div>"
      ],
      "text/plain": [
       "          MetadataTo       MetadataFrom ReceiverPersonId SenderPersonId  \\\n",
       "0                  H  Sullivan, Jacob J               80             87   \n",
       "1                 ;H    Mills, Cheryl D              NaN             32   \n",
       "2                  H    Mills, Cheryl D               80             32   \n",
       "3       Abedin, Huma                  H               81             80   \n",
       "4  Russorv@state.gov                  H              NaN             80   \n",
       "\n",
       "                                   ExtractedBodyText ReceiverPersonIdConct  \n",
       "0                                                                       80  \n",
       "1                                                Thx                   NaN  \n",
       "2                                                                       80  \n",
       "3  H <hrod17@clintonemail.com>\\nFriday, March 11,...                    81  \n",
       "4  Pis print.\\n-•-...-^\\nH < hrod17@clintonernail...                   NaN  "
      ]
     },
     "execution_count": 12,
     "metadata": {},
     "output_type": "execute_result"
    }
   ],
   "source": [
    "# Merge the merged_hf table with the concat_names_df table to fix for missing values.\n",
    "\n",
    "merged_hf = merged_hf.merge(concat_names_df, on='MetadataTo', how='left')\n",
    "merged_hf.head()"
   ]
  },
  {
   "cell_type": "code",
   "execution_count": 13,
   "metadata": {
    "collapsed": false
   },
   "outputs": [
    {
     "data": {
      "text/html": [
       "<div>\n",
       "<table border=\"1\" class=\"dataframe\">\n",
       "  <thead>\n",
       "    <tr style=\"text-align: right;\">\n",
       "      <th></th>\n",
       "      <th>MetadataTo</th>\n",
       "      <th>MetadataFrom</th>\n",
       "      <th>ReceiverPersonId</th>\n",
       "      <th>SenderPersonId</th>\n",
       "      <th>ExtractedBodyText</th>\n",
       "    </tr>\n",
       "  </thead>\n",
       "  <tbody>\n",
       "    <tr>\n",
       "      <th>0</th>\n",
       "      <td>H</td>\n",
       "      <td>Sullivan, Jacob J</td>\n",
       "      <td>80</td>\n",
       "      <td>87</td>\n",
       "      <td></td>\n",
       "    </tr>\n",
       "    <tr>\n",
       "      <th>2</th>\n",
       "      <td>H</td>\n",
       "      <td>Mills, Cheryl D</td>\n",
       "      <td>80</td>\n",
       "      <td>32</td>\n",
       "      <td></td>\n",
       "    </tr>\n",
       "    <tr>\n",
       "      <th>3</th>\n",
       "      <td>Abedin, Huma</td>\n",
       "      <td>H</td>\n",
       "      <td>81</td>\n",
       "      <td>80</td>\n",
       "      <td>H &lt;hrod17@clintonemail.com&gt;\\nFriday, March 11,...</td>\n",
       "    </tr>\n",
       "    <tr>\n",
       "      <th>5</th>\n",
       "      <td>H</td>\n",
       "      <td>Mills, Cheryl D</td>\n",
       "      <td>80</td>\n",
       "      <td>32</td>\n",
       "      <td></td>\n",
       "    </tr>\n",
       "    <tr>\n",
       "      <th>6</th>\n",
       "      <td>Abedin, Huma</td>\n",
       "      <td>H</td>\n",
       "      <td>81</td>\n",
       "      <td>80</td>\n",
       "      <td>H &lt;hrod17@clintonemail.corn&gt;\\nFriday, March 11...</td>\n",
       "    </tr>\n",
       "  </tbody>\n",
       "</table>\n",
       "</div>"
      ],
      "text/plain": [
       "     MetadataTo       MetadataFrom  ReceiverPersonId  SenderPersonId  \\\n",
       "0             H  Sullivan, Jacob J                80              87   \n",
       "2             H    Mills, Cheryl D                80              32   \n",
       "3  Abedin, Huma                  H                81              80   \n",
       "5             H    Mills, Cheryl D                80              32   \n",
       "6  Abedin, Huma                  H                81              80   \n",
       "\n",
       "                                   ExtractedBodyText  \n",
       "0                                                     \n",
       "2                                                     \n",
       "3  H <hrod17@clintonemail.com>\\nFriday, March 11,...  \n",
       "5                                                     \n",
       "6  H <hrod17@clintonemail.corn>\\nFriday, March 11...  "
      ]
     },
     "execution_count": 13,
     "metadata": {},
     "output_type": "execute_result"
    }
   ],
   "source": [
    "# Rearrange columns in dataframe and rename the ReceiverPersonIdConct column to ReceiverPersonId.\n",
    "\n",
    "count_hf = merged_hf[merged_hf.ReceiverPersonIdConct.notnull()]\n",
    "count_hf_features = ['MetadataTo','MetadataFrom','ReceiverPersonIdConct','SenderPersonId','ExtractedBodyText']\n",
    "to_from_df = count_hf[count_hf_features]\n",
    "to_from_df = to_from_df.rename(columns =({'ReceiverPersonIdConct':'ReceiverPersonId'}))\n",
    "to_from_df.ReceiverPersonId = to_from_df.ReceiverPersonId.astype(int)\n",
    "to_from_df.SenderPersonId = to_from_df.SenderPersonId.astype(int)\n",
    "to_from_df.head()"
   ]
  },
  {
   "cell_type": "code",
   "execution_count": 14,
   "metadata": {
    "collapsed": false
   },
   "outputs": [
    {
     "data": {
      "text/html": [
       "<div>\n",
       "<table border=\"1\" class=\"dataframe\">\n",
       "  <thead>\n",
       "    <tr style=\"text-align: right;\">\n",
       "      <th></th>\n",
       "      <th>MetadataTo</th>\n",
       "      <th>MetadataFrom</th>\n",
       "      <th>ReceiverPersonId</th>\n",
       "      <th>SenderPersonId</th>\n",
       "      <th>ExtractedBodyText</th>\n",
       "      <th>CleanReceiverName</th>\n",
       "    </tr>\n",
       "  </thead>\n",
       "  <tbody>\n",
       "    <tr>\n",
       "      <th>0</th>\n",
       "      <td>H</td>\n",
       "      <td>Sullivan, Jacob J</td>\n",
       "      <td>80</td>\n",
       "      <td>87</td>\n",
       "      <td></td>\n",
       "      <td>Hillary Clinton</td>\n",
       "    </tr>\n",
       "    <tr>\n",
       "      <th>1</th>\n",
       "      <td>H</td>\n",
       "      <td>Mills, Cheryl D</td>\n",
       "      <td>80</td>\n",
       "      <td>32</td>\n",
       "      <td></td>\n",
       "      <td>Hillary Clinton</td>\n",
       "    </tr>\n",
       "    <tr>\n",
       "      <th>2</th>\n",
       "      <td>Abedin, Huma</td>\n",
       "      <td>H</td>\n",
       "      <td>81</td>\n",
       "      <td>80</td>\n",
       "      <td>H &lt;hrod17@clintonemail.com&gt;\\nFriday, March 11,...</td>\n",
       "      <td>Huma Abedin</td>\n",
       "    </tr>\n",
       "    <tr>\n",
       "      <th>3</th>\n",
       "      <td>H</td>\n",
       "      <td>Mills, Cheryl D</td>\n",
       "      <td>80</td>\n",
       "      <td>32</td>\n",
       "      <td></td>\n",
       "      <td>Hillary Clinton</td>\n",
       "    </tr>\n",
       "    <tr>\n",
       "      <th>4</th>\n",
       "      <td>Abedin, Huma</td>\n",
       "      <td>H</td>\n",
       "      <td>81</td>\n",
       "      <td>80</td>\n",
       "      <td>H &lt;hrod17@clintonemail.corn&gt;\\nFriday, March 11...</td>\n",
       "      <td>Huma Abedin</td>\n",
       "    </tr>\n",
       "  </tbody>\n",
       "</table>\n",
       "</div>"
      ],
      "text/plain": [
       "     MetadataTo       MetadataFrom  ReceiverPersonId  SenderPersonId  \\\n",
       "0             H  Sullivan, Jacob J                80              87   \n",
       "1             H    Mills, Cheryl D                80              32   \n",
       "2  Abedin, Huma                  H                81              80   \n",
       "3             H    Mills, Cheryl D                80              32   \n",
       "4  Abedin, Huma                  H                81              80   \n",
       "\n",
       "                                   ExtractedBodyText CleanReceiverName  \n",
       "0                                                      Hillary Clinton  \n",
       "1                                                      Hillary Clinton  \n",
       "2  H <hrod17@clintonemail.com>\\nFriday, March 11,...       Huma Abedin  \n",
       "3                                                      Hillary Clinton  \n",
       "4  H <hrod17@clintonemail.corn>\\nFriday, March 11...       Huma Abedin  "
      ]
     },
     "execution_count": 14,
     "metadata": {},
     "output_type": "execute_result"
    }
   ],
   "source": [
    "# Create a CleanReceiverName column with correct names by merging with Persons table.\n",
    "\n",
    "sender_persons_df = pd.read_csv('data_files/Persons.csv')\n",
    "sender_persons_df = sender_persons_df.rename(columns =({'Id':'ReceiverPersonId', 'Name': 'CleanReceiverName'}))\n",
    "sender_persons_df\n",
    "temp_df = to_from_df.merge(sender_persons_df, on='ReceiverPersonId', how='left')\n",
    "temp_df.head()"
   ]
  },
  {
   "cell_type": "code",
   "execution_count": 15,
   "metadata": {
    "collapsed": false
   },
   "outputs": [
    {
     "data": {
      "text/html": [
       "<div>\n",
       "<table border=\"1\" class=\"dataframe\">\n",
       "  <thead>\n",
       "    <tr style=\"text-align: right;\">\n",
       "      <th></th>\n",
       "      <th>MetadataTo</th>\n",
       "      <th>MetadataFrom</th>\n",
       "      <th>ReceiverPersonId</th>\n",
       "      <th>SenderPersonId</th>\n",
       "      <th>ExtractedBodyText</th>\n",
       "      <th>CleanReceiverName</th>\n",
       "      <th>CleanSenderName</th>\n",
       "    </tr>\n",
       "  </thead>\n",
       "  <tbody>\n",
       "    <tr>\n",
       "      <th>0</th>\n",
       "      <td>H</td>\n",
       "      <td>Sullivan, Jacob J</td>\n",
       "      <td>80</td>\n",
       "      <td>87</td>\n",
       "      <td></td>\n",
       "      <td>Hillary Clinton</td>\n",
       "      <td>Jake Sullivan</td>\n",
       "    </tr>\n",
       "    <tr>\n",
       "      <th>1</th>\n",
       "      <td>H</td>\n",
       "      <td>Mills, Cheryl D</td>\n",
       "      <td>80</td>\n",
       "      <td>32</td>\n",
       "      <td></td>\n",
       "      <td>Hillary Clinton</td>\n",
       "      <td>Cheryl Mills</td>\n",
       "    </tr>\n",
       "    <tr>\n",
       "      <th>2</th>\n",
       "      <td>Abedin, Huma</td>\n",
       "      <td>H</td>\n",
       "      <td>81</td>\n",
       "      <td>80</td>\n",
       "      <td>H &lt;hrod17@clintonemail.com&gt;\\nFriday, March 11,...</td>\n",
       "      <td>Huma Abedin</td>\n",
       "      <td>Hillary Clinton</td>\n",
       "    </tr>\n",
       "    <tr>\n",
       "      <th>3</th>\n",
       "      <td>H</td>\n",
       "      <td>Mills, Cheryl D</td>\n",
       "      <td>80</td>\n",
       "      <td>32</td>\n",
       "      <td></td>\n",
       "      <td>Hillary Clinton</td>\n",
       "      <td>Cheryl Mills</td>\n",
       "    </tr>\n",
       "    <tr>\n",
       "      <th>4</th>\n",
       "      <td>Abedin, Huma</td>\n",
       "      <td>H</td>\n",
       "      <td>81</td>\n",
       "      <td>80</td>\n",
       "      <td>H &lt;hrod17@clintonemail.corn&gt;\\nFriday, March 11...</td>\n",
       "      <td>Huma Abedin</td>\n",
       "      <td>Hillary Clinton</td>\n",
       "    </tr>\n",
       "  </tbody>\n",
       "</table>\n",
       "</div>"
      ],
      "text/plain": [
       "     MetadataTo       MetadataFrom  ReceiverPersonId  SenderPersonId  \\\n",
       "0             H  Sullivan, Jacob J                80              87   \n",
       "1             H    Mills, Cheryl D                80              32   \n",
       "2  Abedin, Huma                  H                81              80   \n",
       "3             H    Mills, Cheryl D                80              32   \n",
       "4  Abedin, Huma                  H                81              80   \n",
       "\n",
       "                                   ExtractedBodyText CleanReceiverName  \\\n",
       "0                                                      Hillary Clinton   \n",
       "1                                                      Hillary Clinton   \n",
       "2  H <hrod17@clintonemail.com>\\nFriday, March 11,...       Huma Abedin   \n",
       "3                                                      Hillary Clinton   \n",
       "4  H <hrod17@clintonemail.corn>\\nFriday, March 11...       Huma Abedin   \n",
       "\n",
       "   CleanSenderName  \n",
       "0    Jake Sullivan  \n",
       "1     Cheryl Mills  \n",
       "2  Hillary Clinton  \n",
       "3     Cheryl Mills  \n",
       "4  Hillary Clinton  "
      ]
     },
     "execution_count": 15,
     "metadata": {},
     "output_type": "execute_result"
    }
   ],
   "source": [
    "# Create a CleanToName column with correct names by merging with Persons table\n",
    "receiver_persons_df = pd.read_csv('data_files/Persons.csv')\n",
    "receiver_persons_df = receiver_persons_df.rename(columns =({'Id':'SenderPersonId', 'Name': 'CleanSenderName'}))\n",
    "temp2_df = temp_df.merge(receiver_persons_df, on='SenderPersonId', how='left')\n",
    "temp2_df\n",
    "to_from_df = temp2_df\n",
    "to_from_df.head()"
   ]
  },
  {
   "cell_type": "code",
   "execution_count": 16,
   "metadata": {
    "collapsed": false
   },
   "outputs": [
    {
     "data": {
      "text/html": [
       "<div>\n",
       "<table border=\"1\" class=\"dataframe\">\n",
       "  <thead>\n",
       "    <tr style=\"text-align: right;\">\n",
       "      <th></th>\n",
       "      <th>MetadataTo</th>\n",
       "      <th>MetadataFrom</th>\n",
       "      <th>ReceiverPersonId</th>\n",
       "      <th>SenderPersonId</th>\n",
       "      <th>ExtractedBodyText</th>\n",
       "      <th>CleanReceiverName</th>\n",
       "      <th>CleanSenderName</th>\n",
       "      <th>Sender_Receiver</th>\n",
       "    </tr>\n",
       "  </thead>\n",
       "  <tbody>\n",
       "    <tr>\n",
       "      <th>0</th>\n",
       "      <td>H</td>\n",
       "      <td>Sullivan, Jacob J</td>\n",
       "      <td>80</td>\n",
       "      <td>87</td>\n",
       "      <td></td>\n",
       "      <td>Hillary Clinton</td>\n",
       "      <td>Jake Sullivan</td>\n",
       "      <td>(Jake Sullivan, Hillary Clinton)</td>\n",
       "    </tr>\n",
       "    <tr>\n",
       "      <th>1</th>\n",
       "      <td>H</td>\n",
       "      <td>Mills, Cheryl D</td>\n",
       "      <td>80</td>\n",
       "      <td>32</td>\n",
       "      <td></td>\n",
       "      <td>Hillary Clinton</td>\n",
       "      <td>Cheryl Mills</td>\n",
       "      <td>(Cheryl Mills, Hillary Clinton)</td>\n",
       "    </tr>\n",
       "    <tr>\n",
       "      <th>2</th>\n",
       "      <td>Abedin, Huma</td>\n",
       "      <td>H</td>\n",
       "      <td>81</td>\n",
       "      <td>80</td>\n",
       "      <td>H &lt;hrod17@clintonemail.com&gt;\\nFriday, March 11,...</td>\n",
       "      <td>Huma Abedin</td>\n",
       "      <td>Hillary Clinton</td>\n",
       "      <td>(Hillary Clinton, Huma Abedin)</td>\n",
       "    </tr>\n",
       "    <tr>\n",
       "      <th>3</th>\n",
       "      <td>H</td>\n",
       "      <td>Mills, Cheryl D</td>\n",
       "      <td>80</td>\n",
       "      <td>32</td>\n",
       "      <td></td>\n",
       "      <td>Hillary Clinton</td>\n",
       "      <td>Cheryl Mills</td>\n",
       "      <td>(Cheryl Mills, Hillary Clinton)</td>\n",
       "    </tr>\n",
       "    <tr>\n",
       "      <th>4</th>\n",
       "      <td>Abedin, Huma</td>\n",
       "      <td>H</td>\n",
       "      <td>81</td>\n",
       "      <td>80</td>\n",
       "      <td>H &lt;hrod17@clintonemail.corn&gt;\\nFriday, March 11...</td>\n",
       "      <td>Huma Abedin</td>\n",
       "      <td>Hillary Clinton</td>\n",
       "      <td>(Hillary Clinton, Huma Abedin)</td>\n",
       "    </tr>\n",
       "  </tbody>\n",
       "</table>\n",
       "</div>"
      ],
      "text/plain": [
       "     MetadataTo       MetadataFrom  ReceiverPersonId  SenderPersonId  \\\n",
       "0             H  Sullivan, Jacob J                80              87   \n",
       "1             H    Mills, Cheryl D                80              32   \n",
       "2  Abedin, Huma                  H                81              80   \n",
       "3             H    Mills, Cheryl D                80              32   \n",
       "4  Abedin, Huma                  H                81              80   \n",
       "\n",
       "                                   ExtractedBodyText CleanReceiverName  \\\n",
       "0                                                      Hillary Clinton   \n",
       "1                                                      Hillary Clinton   \n",
       "2  H <hrod17@clintonemail.com>\\nFriday, March 11,...       Huma Abedin   \n",
       "3                                                      Hillary Clinton   \n",
       "4  H <hrod17@clintonemail.corn>\\nFriday, March 11...       Huma Abedin   \n",
       "\n",
       "   CleanSenderName                   Sender_Receiver  \n",
       "0    Jake Sullivan  (Jake Sullivan, Hillary Clinton)  \n",
       "1     Cheryl Mills   (Cheryl Mills, Hillary Clinton)  \n",
       "2  Hillary Clinton    (Hillary Clinton, Huma Abedin)  \n",
       "3     Cheryl Mills   (Cheryl Mills, Hillary Clinton)  \n",
       "4  Hillary Clinton    (Hillary Clinton, Huma Abedin)  "
      ]
     },
     "execution_count": 16,
     "metadata": {},
     "output_type": "execute_result"
    }
   ],
   "source": [
    "# Create a new column from CleanReceiverName and CleanSenderName that is (Receiver, Sender) tuple\n",
    "\n",
    "to_from_df['Sender_Receiver'] = zip(to_from_df.CleanSenderName, to_from_df.CleanReceiverName)\n",
    "to_from_df.head()"
   ]
  },
  {
   "cell_type": "markdown",
   "metadata": {},
   "source": [
    "### Create Tuples and Dicts"
   ]
  },
  {
   "cell_type": "markdown",
   "metadata": {},
   "source": [
    "To start creating graphs, first we need dicts with tuples that counts the number of emails sent between senders and receivers (e.g., {(Sender, Receiver): Count}."
   ]
  },
  {
   "cell_type": "code",
   "execution_count": 17,
   "metadata": {
    "collapsed": false
   },
   "outputs": [
    {
     "name": "stderr",
     "output_type": "stream",
     "text": [
      "/Users/SamK/Library/Python/2.7/lib/python/site-packages/ipykernel/__main__.py:12: FutureWarning: sort(columns=....) is deprecated, use sort_values(by=.....)\n"
     ]
    },
    {
     "data": {
      "text/html": [
       "<div>\n",
       "<table border=\"1\" class=\"dataframe\">\n",
       "  <thead>\n",
       "    <tr style=\"text-align: right;\">\n",
       "      <th></th>\n",
       "      <th>Count</th>\n",
       "    </tr>\n",
       "    <tr>\n",
       "      <th>Sender_Receiver</th>\n",
       "      <th></th>\n",
       "    </tr>\n",
       "  </thead>\n",
       "  <tbody>\n",
       "    <tr>\n",
       "      <th>(Huma Abedin, Hillary Clinton)</th>\n",
       "      <td>1351</td>\n",
       "    </tr>\n",
       "    <tr>\n",
       "      <th>(Cheryl Mills, Hillary Clinton)</th>\n",
       "      <td>1242</td>\n",
       "    </tr>\n",
       "    <tr>\n",
       "      <th>(Jake Sullivan, Hillary Clinton)</th>\n",
       "      <td>839</td>\n",
       "    </tr>\n",
       "    <tr>\n",
       "      <th>(Hillary Clinton, Huma Abedin)</th>\n",
       "      <td>336</td>\n",
       "    </tr>\n",
       "    <tr>\n",
       "      <th>(Lauren Jiloty, Hillary Clinton)</th>\n",
       "      <td>333</td>\n",
       "    </tr>\n",
       "  </tbody>\n",
       "</table>\n",
       "</div>"
      ],
      "text/plain": [
       "                                  Count\n",
       "Sender_Receiver                        \n",
       "(Huma Abedin, Hillary Clinton)     1351\n",
       "(Cheryl Mills, Hillary Clinton)    1242\n",
       "(Jake Sullivan, Hillary Clinton)    839\n",
       "(Hillary Clinton, Huma Abedin)      336\n",
       "(Lauren Jiloty, Hillary Clinton)    333"
      ]
     },
     "execution_count": 17,
     "metadata": {},
     "output_type": "execute_result"
    }
   ],
   "source": [
    "# Make a groupby count into a dataframe to show top email pairs.\n",
    "\n",
    "count_features = ['Sender_Receiver','MetadataTo']\n",
    "to_from_count_df = to_from_df\n",
    "to_from_count_df = to_from_count_df[count_features]\n",
    "\n",
    "# Create a new dataframe that includes the count.\n",
    "\n",
    "to_from_count_df = pd.DataFrame({'Count' : to_from_count_df.groupby([\"Sender_Receiver\", \"MetadataTo\"]).size()}).reset_index() \n",
    "count_features2 = ['Sender_Receiver', 'Count']\n",
    "to_from_count_df = to_from_count_df[count_features2]\n",
    "to_from_count_df = to_from_count_df.sort('Count', ascending = False).set_index('Sender_Receiver')\n",
    "to_from_count_df.head()"
   ]
  },
  {
   "cell_type": "code",
   "execution_count": 18,
   "metadata": {
    "collapsed": false
   },
   "outputs": [
    {
     "data": {
      "text/plain": [
       "('Cheryl Mills', 'Hillary Clinton')"
      ]
     },
     "execution_count": 18,
     "metadata": {},
     "output_type": "execute_result"
    }
   ],
   "source": [
    "# Create a tuple with Sender-Receiver names\n",
    "\n",
    "sender_receiver_tuple = to_from_df.Sender_Receiver\n",
    "sender_receiver_tuple[1]"
   ]
  },
  {
   "cell_type": "code",
   "execution_count": 19,
   "metadata": {
    "collapsed": false
   },
   "outputs": [
    {
     "data": {
      "text/plain": [
       "130"
      ]
     },
     "execution_count": 19,
     "metadata": {},
     "output_type": "execute_result"
    }
   ],
   "source": [
    "# Create a dict with a count for the sender receiver pairs (e.g., {(sender, receiver): count}).\n",
    "\n",
    "hrc_dict={}\n",
    "\n",
    "for tup in list(to_from_df.Sender_Receiver.values):\n",
    "    if tup not in hrc_dict:\n",
    "        hrc_dict[tup] = 1\n",
    "    else:\n",
    "        hrc_dict[tup] = hrc_dict[tup] + 1   \n",
    "hrc_dict['Anne-Marie Slaughter', 'Hillary Clinton']"
   ]
  },
  {
   "cell_type": "code",
   "execution_count": 20,
   "metadata": {
    "collapsed": false
   },
   "outputs": [],
   "source": [
    "#Create a dict of sender-receiver pairs with more than 10 emails exchanged.\n",
    "\n",
    "hrc_graph_dict = {}\n",
    "for s, r in hrc_dict:\n",
    "    if hrc_dict[s,r] <= 10:\n",
    "        pass\n",
    "    else:\n",
    "        hrc_graph_dict[s,r]=hrc_dict[s,r]"
   ]
  },
  {
   "cell_type": "code",
   "execution_count": 21,
   "metadata": {
    "collapsed": false
   },
   "outputs": [],
   "source": [
    "# Create a dict of the network with emails to or from Hillary Clinton excluded.\n",
    "\n",
    "other_dict = {}\n",
    "hill_dict = {}\n",
    "for s, r in hrc_dict:\n",
    "    if s == 'Hillary Clinton'or r == 'Hillary Clinton':\n",
    "        pass\n",
    "    elif s == r:\n",
    "        pass\n",
    "    elif hrc_dict[s,r]<=1:\n",
    "        pass\n",
    "    else:\n",
    "        other_dict[s,r] = hrc_dict[s,r]"
   ]
  },
  {
   "cell_type": "markdown",
   "metadata": {},
   "source": [
    "### Create Graphs"
   ]
  },
  {
   "cell_type": "markdown",
   "metadata": {},
   "source": [
    "Now for the fun part, we can use the dicts to create graphs. I've created three graphs: 1) Top 15 Sender-Receiver Pairs; 2) Network of Senders and Receivers with 10 or more emails exchanged; and 3) Network of Senders and Receivers excluding emails sent or received by Hillary Clinton."
   ]
  },
  {
   "cell_type": "code",
   "execution_count": 22,
   "metadata": {
    "collapsed": false
   },
   "outputs": [
    {
     "name": "stderr",
     "output_type": "stream",
     "text": [
      "/Users/SamK/Library/Python/2.7/lib/python/site-packages/ipykernel/__main__.py:4: FutureWarning: sort(columns=....) is deprecated, use sort_values(by=.....)\n"
     ]
    },
    {
     "data": {
      "image/png": "[encoded data removed]",
      "text/plain": [
       "<matplotlib.figure.Figure at 0x1170cae90>"
      ]
     },
     "metadata": {},
     "output_type": "display_data"
    }
   ],
   "source": [
    "# Graph top 15 Sender-Receiver Pairs\n",
    "\n",
    "my_plot = to_from_count_df.head(15)\n",
    "my_plot = my_plot.sort('Count').plot(kind = 'barh', legend = None, title = 'Top 15 Sender-Receiver Pairs')\n",
    "my_plot.set_xlabel('Email Count')\n",
    "my_plot.set_ylabel('Sender-Receiver Pairs')\n",
    "plt.show()"
   ]
  },
  {
   "cell_type": "code",
   "execution_count": 28,
   "metadata": {
    "collapsed": false
   },
   "outputs": [
    {
     "data": {
      "text/plain": [
       "<matplotlib.figure.Figure at 0x119fa05d0>"
      ]
     },
     "metadata": {},
     "output_type": "display_data"
    },
    {
     "data": {
      "image/png": "[encoded data removed]",
      "text/plain": [
       "<matplotlib.figure.Figure at 0x119fa01d0>"
      ]
     },
     "metadata": {},
     "output_type": "display_data"
    }
   ],
   "source": [
    "# Graph network of Senders and Receivers with 10 or more emails exchanged\n",
    "\n",
    "G = nx.Graph()\n",
    "\n",
    "for (s,r), count in hrc_graph_dict.items():\n",
    "    G.add_edge(s, r, weight=count)\n",
    "\n",
    "pos = nx.spring_layout(G)\n",
    "\n",
    "edge_labels=dict([((u,v,),d['weight']) for u,v,d in G.edges(data=True)])\n",
    "\n",
    "plt.figure(1);\n",
    "plt.figure(num=None, figsize=(20, 20), dpi=1200);\n",
    "nx.draw_networkx(G, pos, with_labels=True)\n",
    "#nx.draw_networkx_edge_labels(G,pos,edge_labels=edge_labels)\n",
    "\n",
    "plt.show()\n"
   ]
  },
  {
   "cell_type": "code",
   "execution_count": 24,
   "metadata": {
    "collapsed": false
   },
   "outputs": [
    {
     "data": {
      "text/plain": [
       "<matplotlib.figure.Figure at 0x1182bfad0>"
      ]
     },
     "metadata": {},
     "output_type": "display_data"
    },
    {
     "data": {
      "image/png": "[encoded data removed]",
      "text/plain": [
       "<matplotlib.figure.Figure at 0x1181f9750>"
      ]
     },
     "metadata": {},
     "output_type": "display_data"
    }
   ],
   "source": [
    "# Graph network of Senders and Receivers excluding emails sent or received by Hillary Clinton.\n",
    "\n",
    "OtherG = nx.Graph()\n",
    "\n",
    "for (s,r), count in other_dict.items():\n",
    "    OtherG.add_edge(s, r, weight=count)\n",
    "\n",
    "other_pos = nx.spring_layout(OtherG)\n",
    "\n",
    "edge_labels=dict([((u,v,),d['weight']) for u,v,d in OtherG.edges(data=True)])\n",
    "\n",
    "plt.figure(1);\n",
    "plt.figure(num=None, figsize=(17, 17), dpi=1200);\n",
    "nx.draw_networkx(OtherG, other_pos, with_labels=True)\n",
    "nx.draw_networkx_edge_labels(OtherG,other_pos,edge_labels=edge_labels)\n",
    "\n",
    "plt.show()"
   ]
  }
 ],
 "metadata": {
  "kernelspec": {
   "display_name": "Python 2",
   "language": "python",
   "name": "python2"
  },
  "language_info": {
   "codemirror_mode": {
    "name": "ipython",
    "version": 2
   },
   "file_extension": ".py",
   "mimetype": "text/x-python",
   "name": "python",
   "nbconvert_exporter": "python",
   "pygments_lexer": "ipython2",
   "version": "2.7.10"
  }
 },
 "nbformat": 4,
 "nbformat_minor": 0
}
